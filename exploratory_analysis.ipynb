{
 "cells": [
  {
   "cell_type": "markdown",
   "metadata": {},
   "source": [
    "## Exploratory analysis\n",
    "\n",
    "This notebook includes some exploratory analysis on the data set for medical diagnosis"
   ]
  },
  {
   "cell_type": "code",
   "execution_count": 3,
   "metadata": {
    "collapsed": true
   },
   "outputs": [],
   "source": [
    "from bs4 import BeautifulSoup\n",
    "import urllib\n",
    "import pdb\n",
    "import json\n",
    "import os\n",
    "import pandas as pd\n",
    "import pickle\n",
    "import matplotlib.pyplot as plt\n",
    "%matplotlib inline"
   ]
  },
  {
   "cell_type": "code",
   "execution_count": 4,
   "metadata": {
    "collapsed": false
   },
   "outputs": [
    {
     "name": "stdout",
     "output_type": "stream",
     "text": [
      "-\n",
      "('Vocab size:', 21520, 'unique words')\n",
      "('Story max length:', 1647, 'words')\n",
      "('Number of training stories:', 133093)\n",
      "('Number of test stories:', 59394)\n",
      "-\n",
      "Here's what a \"story\" tuple looks like (input, query, answer):\n",
      "([u'barrett', u'esophagus', u'itself', u'does', u'not', u'cause', u'symptoms', u'.', u'many', u'people', u'with', u'this', u'condition', u'do', u'not', u'have', u'any', u'symptoms', u'.', u'the', u'acid', u'reflux', u'that', u'causes', u'barrett', u'esophagus', u'often', u'leads', u'to', u'symptoms', u'of', u'heartburn', u'.'], u'barrett esophagus')\n",
      "-\n",
      "Vectorizing the word sequences...\n"
     ]
    }
   ],
   "source": [
    "train_facts = pickle.load(open('data/training_set.dat','r'))\n",
    "\n",
    "test_facts = pickle.load(open('data/test_set.dat','r'))\n",
    "\n",
    "train_stories = [(reduce(lambda x,y: x + y, map(list,fact)),q) for fact,q in train_facts]\n",
    "test_stories = [(reduce(lambda x,y: x + y, map(list,fact)),q) for fact,q in test_facts]\n",
    "\n",
    "\n",
    "vocab = sorted(reduce(lambda x, y: x | y, (set(story + [answer]) for story, answer in train_stories + test_stories)))\n",
    "story_vocab = sorted(reduce(lambda x, y: x | y, (set(story) for story, answer in train_stories + test_stories)))\n",
    "\n",
    "# Reserve 0 for masking via pad_sequences\n",
    "vocab_size = len(vocab) + 1\n",
    "story_maxlen = max(map(len, (x for x, _ in train_stories + test_stories)))\n",
    "\n",
    "\n",
    "print('-')\n",
    "print('Vocab size:', vocab_size, 'unique words')\n",
    "print('Story max length:', story_maxlen, 'words')\n",
    "print('Number of training stories:', len(train_stories))\n",
    "print('Number of test stories:', len(test_stories))\n",
    "print('-')\n",
    "print('Here\\'s what a \"story\" tuple looks like (input, query, answer):')\n",
    "print(train_stories[0])\n",
    "print('-')\n",
    "print('Vectorizing the word sequences...')\n",
    "\n"
   ]
  },
  {
   "cell_type": "code",
   "execution_count": 5,
   "metadata": {
    "collapsed": false
   },
   "outputs": [
    {
     "name": "stdout",
     "output_type": "stream",
     "text": [
      "Answers dict len: 2350\n"
     ]
    }
   ],
   "source": [
    "answer_vocab = sorted(reduce(lambda x, y: x | y, (set([answer]) for _, answer in train_stories + test_stories)))\n",
    "# Reserve 0 for masking via pad_sequences\n",
    "answer_dict = dict((word, i) for i, word in enumerate(answer_vocab))\n",
    "print('Answers dict len: {0}'.format(len(answer_dict)))"
   ]
  },
  {
   "cell_type": "code",
   "execution_count": 6,
   "metadata": {
    "collapsed": false
   },
   "outputs": [
    {
     "name": "stdout",
     "output_type": "stream",
     "text": [
      "DescribeResult(nobs=192487, minmax=(4, 1647), mean=122.61276865450654, variance=24135.934935201523, skewness=3.780458033729767, kurtosis=19.974163240940545)\n"
     ]
    },
    {
     "data": {
      "image/png": "[encoded data removed]",
      "text/plain": [
       "<matplotlib.figure.Figure at 0x7fafc3877d10>"
      ]
     },
     "metadata": {},
     "output_type": "display_data"
    }
   ],
   "source": [
    "from scipy import stats\n",
    "import numpy as np\n",
    "\n",
    "lens = map(len, (x for x, _ in train_stories + test_stories))\n",
    "print stats.describe(lens)\n",
    "plt.xlabel('#words x story')\n",
    "plt.hist(lens, bins=30,alpha=0.5)\n",
    "plt.axvline(np.array(lens).mean(), color='black', linestyle='dashed', linewidth=2)\n",
    "plt.savefig('plots/word_by_story.png')"
   ]
  },
  {
   "cell_type": "code",
   "execution_count": 7,
   "metadata": {
    "collapsed": false
   },
   "outputs": [
    {
     "name": "stdout",
     "output_type": "stream",
     "text": [
      "DescribeResult(nobs=192487, minmax=(2, 118), mean=11.537999968829064, variance=153.05061042999489, skewness=2.9519698043011893, kurtosis=12.82327875307992)\n"
     ]
    },
    {
     "data": {
      "image/png": "[encoded data removed]",
      "text/plain": [
       "<matplotlib.figure.Figure at 0x7fafc8392bd0>"
      ]
     },
     "metadata": {},
     "output_type": "display_data"
    }
   ],
   "source": [
    "lens = map(len, (x for x, _ in train_facts + test_facts))\n",
    "print stats.describe(lens)\n",
    "plt.xlabel('#facts')\n",
    "plt.hist(lens, bins=30,alpha=0.5)\n",
    "plt.axvline(np.array(lens).mean(), color='black', linestyle='dashed', linewidth=2)\n",
    "plt.savefig('plots/facts_by_disease.png')"
   ]
  },
  {
   "cell_type": "code",
   "execution_count": 8,
   "metadata": {
    "collapsed": false
   },
   "outputs": [
    {
     "name": "stdout",
     "output_type": "stream",
     "text": [
      "8\n",
      "DescribeResult(nobs=2220915, minmax=(2, 111), mean=10.626865053367643, variance=63.421087757828843, skewness=1.34814656662994, kurtosis=3.0186643322827527)\n"
     ]
    },
    {
     "data": {
      "image/png": "[encoded data removed]",
      "text/plain": [
       "<matplotlib.figure.Figure at 0x7fafc871f1d0>"
      ]
     },
     "metadata": {},
     "output_type": "display_data"
    }
   ],
   "source": [
    "lens = map(len, (x for h,_ in train_facts + test_facts for x in h))\n",
    "print lens[0]\n",
    "print stats.describe(lens)\n",
    "plt.xlabel('#words x facts')\n",
    "plt.hist(lens, bins=30,alpha=0.5)\n",
    "plt.axvline(np.array(lens).mean(), color='black', linestyle='dashed', linewidth=2)\n",
    "plt.savefig('plots/word_by_fact.png')"
   ]
  },
  {
   "cell_type": "code",
   "execution_count": null,
   "metadata": {
    "collapsed": false,
    "scrolled": true
   },
   "outputs": [],
   "source": [
    "#print story_vocab"
   ]
  },
  {
   "cell_type": "code",
   "execution_count": null,
   "metadata": {
    "collapsed": true
   },
   "outputs": [],
   "source": []
  }
 ],
 "metadata": {
  "kernelspec": {
   "display_name": "Python 2",
   "language": "python",
   "name": "python2"
  },
  "language_info": {
   "codemirror_mode": {
    "name": "ipython",
    "version": 2
   },
   "file_extension": ".py",
   "mimetype": "text/x-python",
   "name": "python",
   "nbconvert_exporter": "python",
   "pygments_lexer": "ipython2",
   "version": "2.7.11"
  }
 },
 "nbformat": 4,
 "nbformat_minor": 0
}
